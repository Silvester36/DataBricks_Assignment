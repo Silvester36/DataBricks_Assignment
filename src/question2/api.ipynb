{
 "cells": [
  {
   "cell_type": "code",
   "execution_count": 0,
   "metadata": {
    "application/vnd.databricks.v1+cell": {
     "cellMetadata": {
      "byteLimit": 2048000,
      "rowLimit": 10000
     },
     "inputWidgets": {},
     "nuid": "c298e51b-5038-4a32-b3e6-e79d572de26d",
     "showTitle": false,
     "tableResultSettingsMap": {},
     "title": ""
    }
   },
   "outputs": [],
   "source": [
    "from pyspark.sql import SparkSession\n",
    "from pyspark.sql.types import StructType, StructField, StringType, IntegerType\n",
    "from pyspark.sql.functions import lit, current_date\n",
    "import requests\n",
    "\n",
    "# 1️⃣ Create Spark session\n",
    "spark = SparkSession.builder.appName(\"reqres_api_to_delta\").getOrCreate()\n",
    "\n",
    "# 2️⃣ Define API base URL\n",
    "base_url = \"https://reqres.in/api/users\"\n",
    "\n",
    "# 3️⃣ Fetch all paginated data\n",
    "all_data = []\n",
    "page = 1\n",
    "\n",
    "while True:\n",
    "    response = requests.get(f\"{base_url}?page={page}\")\n",
    "    json_data = response.json()\n",
    "\n",
    "    if not json_data.get(\"data\"):  # stop when no more data\n",
    "        break\n",
    "\n",
    "    all_data.extend(json_data[\"data\"])\n",
    "    page += 1\n",
    "\n",
    "# 4️⃣ Define schema for DataFrame\n",
    "schema = StructType([\n",
    "    StructField(\"id\", IntegerType(), True),\n",
    "    StructField(\"email\", StringType(), True),\n",
    "    StructField(\"first_name\", StringType(), True),\n",
    "    StructField(\"last_name\", StringType(), True),\n",
    "    StructField(\"avatar\", StringType(), True)\n",
    "])\n",
    "\n",
    "# 5️⃣ Create DataFrame\n",
    "df = spark.createDataFrame(all_data, schema=schema)\n",
    "\n",
    "# 6️⃣ Add derived columns\n",
    "df_final = df.withColumn(\"site_address\", lit(\"reqres.in\")) \\\n",
    "             .withColumn(\"load_date\", current_date())\n",
    "\n",
    "# 7️⃣ Show DataFrame\n",
    "display(df_final)\n",
    "\n",
    "# 8️⃣ Safe Delta write\n",
    "delta_path = \"/Volumes/assignment/question2/write\"\n",
    "\n",
    "# Remove old folder if exists (to avoid transaction log issues)\n",
    "try:\n",
    "    dbutils.fs.rm(delta_path, True)  # recursive delete\n",
    "except:\n",
    "    pass  # ignore if folder does not exist\n",
    "\n",
    "# Write DataFrame as Delta\n",
    "df_final.write.format(\"delta\").mode(\"overwrite\").option(\"overwriteSchema\", \"true\").save(delta_path)\n"
   ]
  },
  {
   "cell_type": "code",
   "execution_count": 0,
   "metadata": {
    "application/vnd.databricks.v1+cell": {
     "cellMetadata": {
      "byteLimit": 2048000,
      "rowLimit": 10000
     },
     "inputWidgets": {},
     "nuid": "d00363bc-14e8-481e-9af3-233f12dd3265",
     "showTitle": false,
     "tableResultSettingsMap": {},
     "title": ""
    }
   },
   "outputs": [],
   "source": [
    "spark.read.format(\"csv\").load(\"/Volumes/assignment/question2/write/file.csv\").display()"
   ]
  }
 ],
 "metadata": {
  "application/vnd.databricks.v1+notebook": {
   "computePreferences": null,
   "dashboards": [],
   "environmentMetadata": {
    "base_environment": "",
    "environment_version": "4"
   },
   "inputWidgetPreferences": null,
   "language": "python",
   "notebookMetadata": {
    "pythonIndentUnit": 4
   },
   "notebookName": "api",
   "widgets": {}
  },
  "language_info": {
   "name": "python"
  }
 },
 "nbformat": 4,
 "nbformat_minor": 0
}
