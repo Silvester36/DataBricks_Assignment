{
 "cells": [
  {
   "cell_type": "code",
   "execution_count": 0,
   "metadata": {
    "application/vnd.databricks.v1+cell": {
     "cellMetadata": {
      "byteLimit": 2048000,
      "rowLimit": 10000
     },
     "inputWidgets": {},
     "nuid": "60471ebe-048d-4fab-ac8b-9b055391b807",
     "showTitle": false,
     "tableResultSettingsMap": {},
     "title": ""
    }
   },
   "outputs": [],
   "source": [
    "%run \"/Workspace/Users/silvester.g@diggibyte.com/DataBricks_Assignment/src/question1/source_to_bronze/utils\""
   ]
  },
  {
   "cell_type": "code",
   "execution_count": 0,
   "metadata": {
    "application/vnd.databricks.v1+cell": {
     "cellMetadata": {
      "byteLimit": 2048000,
      "rowLimit": 10000
     },
     "inputWidgets": {},
     "nuid": "234f3435-71af-487b-a4bf-763155150e36",
     "showTitle": false,
     "tableResultSettingsMap": {},
     "title": ""
    }
   },
   "outputs": [],
   "source": [
    "spark.sql(\"CREATE DATABASE IF NOT EXISTS assignment.gold\")"
   ]
  },
  {
   "cell_type": "code",
   "execution_count": 0,
   "metadata": {
    "application/vnd.databricks.v1+cell": {
     "cellMetadata": {
      "byteLimit": 2048000,
      "rowLimit": 10000
     },
     "inputWidgets": {},
     "nuid": "874741be-b389-44f9-8e89-c085c08e3764",
     "showTitle": false,
     "tableResultSettingsMap": {},
     "title": ""
    }
   },
   "outputs": [],
   "source": [
    "\n",
    "from pyspark.sql.functions import sum, avg, count, desc\n",
    "\n",
    "\n",
    "employee_df = spark.read.table(\"assignment.Employee_info.dim_employee\")\n",
    "\n",
    "salary_per_dept = employee_df.groupBy(\"department_id\") \\\n",
    "    .agg(sum(\"salary\").alias(\"total_salary\")) \\\n",
    "    .orderBy(desc(\"total_salary\"))\n",
    "\n",
    "emp_count = employee_df.groupBy(\"department_id\", \"country_id\") \\\n",
    "    .agg(count(\"employee_id\").alias(\"employee_count\"))\n",
    "\n",
    "dept_country = employee_df.select(\"department_id\", \"country_id\").distinct()\n",
    "\n",
    "avg_age = employee_df.groupBy(\"department_id\") \\\n",
    "    .agg(avg(\"age\").alias(\"avg_age\"))\n",
    "\n",
    "salary_per_dept = add_load_date(salary_per_dept)\n",
    "emp_count = add_load_date(emp_count)\n",
    "dept_country = add_load_date(dept_country)\n",
    "avg_age = add_load_date(avg_age)\n",
    "\n",
    "salary_per_dept.write.format(\"delta\").mode(\"overwrite\").saveAsTable(\"assignment.gold.fact_salary\")\n",
    "emp_count.write.format(\"delta\").mode(\"overwrite\").saveAsTable(\"assignment.gold.fact_emp_count\")\n",
    "dept_country.write.format(\"delta\").mode(\"overwrite\").saveAsTable(\"assignment.gold.fact_dept_country\")\n",
    "avg_age.write.format(\"delta\").mode(\"overwrite\").saveAsTable(\"assignment.gold.fact_avg_age\")\n",
    "\n",
    "# print(\"✅ Data successfully written as Delta tables in gold database\")"
   ]
  },
  {
   "cell_type": "code",
   "execution_count": 0,
   "metadata": {
    "application/vnd.databricks.v1+cell": {
     "cellMetadata": {
      "byteLimit": 2048000,
      "implicitDf": true,
      "rowLimit": 10000
     },
     "inputWidgets": {},
     "nuid": "58a35122-8c3b-4550-adb5-ff712faba529",
     "showTitle": false,
     "tableResultSettingsMap": {
      "0": {
       "dataGridStateBlob": "{\"version\":1,\"tableState\":{\"columnPinning\":{\"left\":[\"#row_number#\"],\"right\":[]},\"columnSizing\":{},\"columnVisibility\":{}},\"settings\":{\"columns\":{}},\"syncTimestamp\":1760702234635}",
       "filterBlob": null,
       "queryPlanFiltersBlob": null,
       "tableResultIndex": 0
      }
     },
     "title": ""
    }
   },
   "outputs": [],
   "source": [
    "%sql\n",
    "select * from assignment.gold.fact_avg_age;"
   ]
  },
  {
   "cell_type": "code",
   "execution_count": 0,
   "metadata": {
    "application/vnd.databricks.v1+cell": {
     "cellMetadata": {
      "byteLimit": 2048000,
      "rowLimit": 10000
     },
     "inputWidgets": {},
     "nuid": "069ccce6-3af5-4860-b490-058cdb4ddd89",
     "showTitle": false,
     "tableResultSettingsMap": {},
     "title": ""
    }
   },
   "outputs": [],
   "source": [
    "\n",
    "select * from assignment.gold.fact_salary"
   ]
  },
  {
   "cell_type": "code",
   "execution_count": 0,
   "metadata": {
    "application/vnd.databricks.v1+cell": {
     "cellMetadata": {},
     "inputWidgets": {},
     "nuid": "9419297c-0c6f-451c-aef3-bec93bad6f45",
     "showTitle": false,
     "tableResultSettingsMap": {},
     "title": ""
    }
   },
   "outputs": [],
   "source": []
  }
 ],
 "metadata": {
  "application/vnd.databricks.v1+notebook": {
   "computePreferences": null,
   "dashboards": [],
   "environmentMetadata": {
    "base_environment": "",
    "environment_version": "4"
   },
   "inputWidgetPreferences": null,
   "language": "python",
   "notebookMetadata": {
    "mostRecentlyExecutedCommandWithImplicitDF": {
     "commandId": 5837965706215930,
     "dataframes": [
      "_sqldf"
     ]
    },
    "pythonIndentUnit": 4
   },
   "notebookName": "employee_silver_to_gold",
   "widgets": {}
  },
  "language_info": {
   "name": "python"
  }
 },
 "nbformat": 4,
 "nbformat_minor": 0
}
