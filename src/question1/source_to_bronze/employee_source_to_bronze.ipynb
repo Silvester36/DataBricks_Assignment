{
 "cells": [
  {
   "cell_type": "code",
   "execution_count": 0,
   "metadata": {
    "application/vnd.databricks.v1+cell": {
     "cellMetadata": {
      "byteLimit": 2048000,
      "rowLimit": 10000
     },
     "inputWidgets": {},
     "nuid": "61c3050b-c132-4a6e-93cd-14060ab72662",
     "showTitle": false,
     "tableResultSettingsMap": {},
     "title": ""
    }
   },
   "outputs": [],
   "source": [
    "%run \"/Workspace/Users/silvester.g@diggibyte.com/DataBricks_Assignment/src/question1/source_to_bronze/utils\"\n"
   ]
  },
  {
   "cell_type": "code",
   "execution_count": 0,
   "metadata": {
    "application/vnd.databricks.v1+cell": {
     "cellMetadata": {
      "byteLimit": 2048000,
      "rowLimit": 10000
     },
     "inputWidgets": {},
     "nuid": "26dce27c-8947-462c-8536-f3e258684917",
     "showTitle": false,
     "tableResultSettingsMap": {},
     "title": ""
    }
   },
   "outputs": [],
   "source": [
    "# Paths (simulate DBFS)\n",
    "employee_path = \"/Volumes/assignment/dataset/data/Employee-Q1.csv\"\n",
    "department_path = \"/Volumes/assignment/dataset/data/Department-Q1.csv\"\n",
    "country_path = \"/Volumes/assignment/dataset/data/Country-Q1.csv\"\n",
    "\n",
    "# Read CSVs\n",
    "employee_df = read_csv(employee_path)\n",
    "department_df = read_csv(department_path)\n",
    "country_df = read_csv(country_path)\n",
    "\n",
    "# Write to bronze layer\n",
    "write_csv(employee_df, \"/Volumes/assignment/default/write/employee\")\n",
    "write_csv(department_df, \"/Volumes/assignment/default/write/department\")\n",
    "write_csv(country_df, \"/Volumes/assignment/default/write/country\")\n",
    "\n",
    "print(\"✅ Data successfully written to bronze layer\")\n"
   ]
  },
  {
   "cell_type": "code",
   "execution_count": 0,
   "metadata": {
    "application/vnd.databricks.v1+cell": {
     "cellMetadata": {
      "byteLimit": 2048000,
      "rowLimit": 10000
     },
     "inputWidgets": {},
     "nuid": "cad1f1ab-3a15-40d5-8ada-20d8742ad7fa",
     "showTitle": false,
     "tableResultSettingsMap": {},
     "title": ""
    }
   },
   "outputs": [],
   "source": []
  }
 ],
 "metadata": {
  "application/vnd.databricks.v1+notebook": {
   "computePreferences": {
    "hardware": {
     "accelerator": null,
     "gpuPoolId": null,
     "memory": null
    }
   },
   "dashboards": [],
   "environmentMetadata": {
    "base_environment": "",
    "environment_version": "4"
   },
   "inputWidgetPreferences": null,
   "language": "python",
   "notebookMetadata": {
    "pythonIndentUnit": 4
   },
   "notebookName": "employee_source_to_bronze",
   "widgets": {}
  },
  "language_info": {
   "name": "python"
  }
 },
 "nbformat": 4,
 "nbformat_minor": 0
}
