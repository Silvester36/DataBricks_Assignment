{
 "cells": [
  {
   "cell_type": "code",
   "execution_count": 0,
   "metadata": {
    "application/vnd.databricks.v1+cell": {
     "cellMetadata": {
      "byteLimit": 2048000,
      "rowLimit": 10000
     },
     "inputWidgets": {},
     "nuid": "c63e4c17-bb30-43d7-a0de-8fe9375e8df2",
     "showTitle": false,
     "tableResultSettingsMap": {},
     "title": ""
    }
   },
   "outputs": [],
   "source": [
    "from pyspark.sql.functions import lit, current_date, udf\n",
    "from pyspark.sql.types import StringType\n",
    "import re\n",
    "\n",
    "\n",
    "# Function to read CSV\n",
    "def read_csv(path, header=True, inferSchema=True):\n",
    "    return spark.read.csv(path, header=header, inferSchema=inferSchema)\n",
    "\n",
    "# Function to write CSV\n",
    "def write_csv(df, path, mode=\"overwrite\"):\n",
    "    df.coalesce(1).write.mode(mode).option(\"header\", True).csv(path)\n",
    "\n",
    "# Function to convert CamelCase to snake_case\n",
    "def camel_to_snake(name):\n",
    "    s1 = re.sub('(.)([A-Z][a-z]+)', r'\\1_\\2', name)\n",
    "    return re.sub('([a-z0-9])([A-Z])', r'\\1_\\2', s1).lower()\n",
    "\n",
    "# Register UDF\n",
    "camel_to_snake_udf = udf(camel_to_snake, StringType())\n",
    "\n",
    "# Function to rename all columns to snake_case\n",
    "def rename_columns_to_snake_case(df):\n",
    "    for col_name in df.columns:\n",
    "        df = df.withColumnRenamed(col_name, camel_to_snake(col_name))\n",
    "    return df\n",
    "\n",
    "# Function to add load_date\n",
    "def add_load_date(df):\n",
    "    return df.withColumn(\"load_date\", current_date())\n",
    "\n",
    "print(\"✅ Utils Notebook Loaded\")\n"
   ]
  }
 ],
 "metadata": {
  "application/vnd.databricks.v1+notebook": {
   "computePreferences": null,
   "dashboards": [],
   "environmentMetadata": {
    "base_environment": "",
    "environment_version": "4"
   },
   "inputWidgetPreferences": null,
   "language": "python",
   "notebookMetadata": {
    "pythonIndentUnit": 4
   },
   "notebookName": "utils",
   "widgets": {}
  },
  "language_info": {
   "name": "python"
  }
 },
 "nbformat": 4,
 "nbformat_minor": 0
}
