{
 "cells": [
  {
   "cell_type": "code",
   "execution_count": 0,
   "metadata": {
    "application/vnd.databricks.v1+cell": {
     "cellMetadata": {
      "byteLimit": 2048000,
      "rowLimit": 10000
     },
     "inputWidgets": {},
     "nuid": "a0210d55-b77c-4e30-a347-8298cb9292d0",
     "showTitle": false,
     "tableResultSettingsMap": {},
     "title": ""
    }
   },
   "outputs": [],
   "source": [
    "%run \"/Workspace/Users/silvester.g@diggibyte.com/DataBricks_Assignment/src/question1/source_to_bronze/utils\""
   ]
  },
  {
   "cell_type": "code",
   "execution_count": 0,
   "metadata": {
    "application/vnd.databricks.v1+cell": {
     "cellMetadata": {
      "byteLimit": 2048000,
      "rowLimit": 10000
     },
     "inputWidgets": {},
     "nuid": "ac3e1299-ef54-445a-8021-5be4199c1539",
     "showTitle": false,
     "tableResultSettingsMap": {},
     "title": ""
    }
   },
   "outputs": [],
   "source": [
    "from pyspark.sql.types import StructType, StructField, StringType, IntegerType, DoubleType\n",
    "\n",
    "# Define schemas (custom)\n",
    "employee_schema = StructType([\n",
    "    StructField(\"EmployeeID\", IntegerType(), True),\n",
    "    StructField(\"EmployeeName\", StringType(), True),\n",
    "    StructField(\"DepartmentID\", StringType(), True),\n",
    "    StructField(\"CountryID\", StringType(), True),\n",
    "    StructField(\"Salary\", DoubleType(), True),\n",
    "    StructField(\"Age\", IntegerType(), True)\n",
    "])\n",
    "\n",
    "department_schema = StructType([\n",
    "    StructField(\"DepartmentID\", IntegerType(), True),\n",
    "    StructField(\"DepartmentName\", StringType(), True)\n",
    "])\n",
    "\n",
    "country_schema = StructType([\n",
    "    StructField(\"CountryID\", IntegerType(), True),\n",
    "    StructField(\"CountryName\", StringType(), True)\n",
    "])\n",
    "\n",
    "# Read bronze CSVs\n",
    "employee_df = spark.read.option(\"header\", True).schema(employee_schema).csv(\"/Volumes/assignment/default/write/employee\")\n",
    "department_df = spark.read.option(\"header\", True).schema(department_schema).csv(\"/Volumes/assignment/default/write/department\")\n",
    "country_df = spark.read.option(\"header\", True).schema(country_schema).csv(\"/Volumes/assignment/default/write/country\")\n",
    "\n",
    "# Convert to snake_case and add load_date\n",
    "employee_df = rename_columns_to_snake_case(employee_df)\n",
    "employee_df = add_load_date(employee_df)\n",
    "\n",
    "# Create a database (if you want)\n",
    "spark.sql(\"CREATE DATABASE IF NOT EXISTS assignment.Employee_info\")\n",
    "\n",
    "# Write as Delta table inside that database\n",
    "employee_df.write.format(\"delta\").mode(\"overwrite\").saveAsTable(\"assignment.Employee_info.dim_employee\")\n",
    "\n",
    "\n",
    "print(\"✅ Data successfully written to silver layer (Delta)\")\n"
   ]
  },
  {
   "cell_type": "code",
   "execution_count": 0,
   "metadata": {
    "application/vnd.databricks.v1+cell": {
     "cellMetadata": {
      "byteLimit": 2048000,
      "implicitDf": true,
      "rowLimit": 10000
     },
     "inputWidgets": {},
     "nuid": "1b53a6e9-37da-4594-9347-403c2f9745ac",
     "showTitle": false,
     "tableResultSettingsMap": {},
     "title": ""
    }
   },
   "outputs": [],
   "source": [
    "%sql\n",
    "SELECT * \n",
    "FROM assignment.employee_info.dim_employee"
   ]
  }
 ],
 "metadata": {
  "application/vnd.databricks.v1+notebook": {
   "computePreferences": null,
   "dashboards": [],
   "environmentMetadata": {
    "base_environment": "",
    "environment_version": "4"
   },
   "inputWidgetPreferences": null,
   "language": "python",
   "notebookMetadata": {
    "mostRecentlyExecutedCommandWithImplicitDF": {
     "commandId": 5837965706215898,
     "dataframes": [
      "_sqldf"
     ]
    },
    "pythonIndentUnit": 4
   },
   "notebookName": "employee_bronze_to_silver",
   "widgets": {}
  },
  "language_info": {
   "name": "python"
  }
 },
 "nbformat": 4,
 "nbformat_minor": 0
}
